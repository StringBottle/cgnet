{
 "metadata": {
  "language_info": {
   "codemirror_mode": {
    "name": "ipython",
    "version": 3
   },
   "file_extension": ".py",
   "mimetype": "text/x-python",
   "name": "python",
   "nbconvert_exporter": "python",
   "pygments_lexer": "ipython3",
   "version": "3.8.8"
  },
  "orig_nbformat": 2,
  "kernelspec": {
   "name": "python388jvsc74a57bd07523537283bd4f95eae10351b4bb8edfe1bdb7170d7a7755f24e3db61f71424a",
   "display_name": "Python 3.8.8 64-bit ('cgnet': conda)"
  },
  "metadata": {
   "interpreter": {
    "hash": "7523537283bd4f95eae10351b4bb8edfe1bdb7170d7a7755f24e3db61f71424a"
   }
  }
 },
 "nbformat": 4,
 "nbformat_minor": 2,
 "cells": [
  {
   "cell_type": "code",
   "execution_count": 1,
   "source": [
    "from cityscapes import CityscapesDatset\n",
    "\n",
    "import tensorflow as tf \n",
    "import matplotlib.pyplot as plt\n",
    "\n",
    "from model import CGNet"
   ],
   "outputs": [],
   "metadata": {}
  },
  {
   "cell_type": "code",
   "execution_count": 2,
   "source": [
    "data_dir = '/home/sss/UOS-SSaS Dropbox/05. Data/00. Benchmarks/01. cityscapes'\n",
    "cityscapes_dataset = CityscapesDatset(data_dir)"
   ],
   "outputs": [],
   "metadata": {}
  },
  {
   "cell_type": "code",
   "execution_count": 3,
   "source": [
    "model = CGNet(classes=19)\n",
    "model.build(input_shape=(None, 680, 680, 3))\n",
    "model.summary()"
   ],
   "outputs": [
    {
     "output_type": "stream",
     "name": "stdout",
     "text": [
      "Training starts with (None, 680, 680, 3)\n",
      "Stage 1 ends with (None, 339, 339, 35)\n",
      "Stage 2 starts with (None, 169, 169, 32)\n",
      "Model: \"cg_net\"\n",
      "_________________________________________________________________\n",
      "Layer (type)                 Output Shape              Param #   \n",
      "=================================================================\n",
      "conv_bnp_re_lu (ConvBNPReLU) multiple                  3678496   \n",
      "_________________________________________________________________\n",
      "conv_bnp_re_lu_1 (ConvBNPReL multiple                  3686848   \n",
      "_________________________________________________________________\n",
      "conv_bnp_re_lu_2 (ConvBNPReL multiple                  3686848   \n",
      "_________________________________________________________________\n",
      "input_injection (InputInject multiple                  0         \n",
      "_________________________________________________________________\n",
      "input_injection_1 (InputInje multiple                  0         \n",
      "_________________________________________________________________\n",
      "bnp_re_lu (BNPReLU)          multiple                  4022375   \n",
      "_________________________________________________________________\n",
      "c_gblock_down (CGblock_down) multiple                  1378356   \n",
      "_________________________________________________________________\n",
      "c_gblock (CGblock)           multiple                  2755272   \n",
      "_________________________________________________________________\n",
      "c_gblock_1 (CGblock)         multiple                  2764488   \n",
      "_________________________________________________________________\n",
      "bnp_re_lu_4 (BNPReLU)        multiple                  2827935   \n",
      "_________________________________________________________________\n",
      "c_gblock_down_1 (CGblock_dow multiple                  1440776   \n",
      "_________________________________________________________________\n",
      "c_gblock_2 (CGblock)         multiple                  1440968   \n",
      "_________________________________________________________________\n",
      "c_gblock_3 (CGblock)         multiple                  1440968   \n",
      "_________________________________________________________________\n",
      "c_gblock_4 (CGblock)         multiple                  1440968   \n",
      "_________________________________________________________________\n",
      "c_gblock_5 (CGblock)         multiple                  1440968   \n",
      "_________________________________________________________________\n",
      "c_gblock_6 (CGblock)         multiple                  1440968   \n",
      "_________________________________________________________________\n",
      "c_gblock_7 (CGblock)         multiple                  1440968   \n",
      "_________________________________________________________________\n",
      "c_gblock_8 (CGblock)         multiple                  1440968   \n",
      "_________________________________________________________________\n",
      "c_gblock_9 (CGblock)         multiple                  1440968   \n",
      "_________________________________________________________________\n",
      "c_gblock_10 (CGblock)        multiple                  1440968   \n",
      "_________________________________________________________________\n",
      "c_gblock_11 (CGblock)        multiple                  1440968   \n",
      "_________________________________________________________________\n",
      "c_gblock_12 (CGblock)        multiple                  1440968   \n",
      "_________________________________________________________________\n",
      "c_gblock_13 (CGblock)        multiple                  1440968   \n",
      "_________________________________________________________________\n",
      "c_gblock_14 (CGblock)        multiple                  1440968   \n",
      "_________________________________________________________________\n",
      "c_gblock_15 (CGblock)        multiple                  1440968   \n",
      "_________________________________________________________________\n",
      "c_gblock_16 (CGblock)        multiple                  1440968   \n",
      "_________________________________________________________________\n",
      "c_gblock_17 (CGblock)        multiple                  1440968   \n",
      "_________________________________________________________________\n",
      "c_gblock_18 (CGblock)        multiple                  1440968   \n",
      "_________________________________________________________________\n",
      "c_gblock_19 (CGblock)        multiple                  1440968   \n",
      "_________________________________________________________________\n",
      "c_gblock_20 (CGblock)        multiple                  1440968   \n",
      "_________________________________________________________________\n",
      "c_gblock_21 (CGblock)        multiple                  1440968   \n",
      "_________________________________________________________________\n",
      "bnp_re_lu_26 (BNPReLU)       multiple                  1807360   \n",
      "_________________________________________________________________\n",
      "sequential (Sequential)      (None, 84, 84, 19)        4883      \n",
      "=================================================================\n",
      "Total params: 56,872,997\n",
      "Trainable params: 56,863,481\n",
      "Non-trainable params: 9,516\n",
      "_________________________________________________________________\n"
     ]
    }
   ],
   "metadata": {}
  },
  {
   "cell_type": "code",
   "execution_count": null,
   "source": [],
   "outputs": [],
   "metadata": {}
  }
 ]
}